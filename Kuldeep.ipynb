{
  "nbformat": 4,
  "nbformat_minor": 0,
  "metadata": {
    "colab": {
      "provenance": [],
      "authorship_tag": "ABX9TyMQI9OSbFKsID+Ar8+6gQs/",
      "include_colab_link": true
    },
    "kernelspec": {
      "name": "python3",
      "display_name": "Python 3"
    },
    "language_info": {
      "name": "python"
    }
  },
  "cells": [
    {
      "cell_type": "markdown",
      "metadata": {
        "id": "view-in-github",
        "colab_type": "text"
      },
      "source": [
        "<a href=\"https://colab.research.google.com/github/Cooldep/new/blob/main/Kuldeep.ipynb\" target=\"_parent\"><img src=\"https://colab.research.google.com/assets/colab-badge.svg\" alt=\"Open In Colab\"/></a>"
      ]
    },
    {
      "cell_type": "code",
      "execution_count": null,
      "metadata": {
        "id": "VxiMYv1pY6zZ",
        "colab": {
          "base_uri": "https://localhost:8080/"
        },
        "outputId": "96ede8da-4748-49eb-aa3f-a30638e5c512"
      },
      "outputs": [
        {
          "output_type": "stream",
          "name": "stdout",
          "text": [
            "Kuldeep Kumar Rajpoot\n"
          ]
        }
      ],
      "source": [
        "print(\"Kuldeep Kumar Rajpoot\")"
      ]
    },
    {
      "cell_type": "code",
      "source": [
        "a=10\n",
        "b=34\n",
        "c=a+b\n",
        "print(\"Sum = \",c)"
      ],
      "metadata": {
        "colab": {
          "base_uri": "https://localhost:8080/"
        },
        "id": "bbyahwCTZ9_0",
        "outputId": "0c8a72a1-c6f1-4fe9-e865-bdb91deafe54"
      },
      "execution_count": null,
      "outputs": [
        {
          "output_type": "stream",
          "name": "stdout",
          "text": [
            "Sum =  44\n"
          ]
        }
      ]
    },
    {
      "cell_type": "code",
      "source": [
        "import pandas as pd\n",
        "mylist= [100,200,300,65,78,99]\n",
        "\n",
        "res= pd.Series(mylist)\n",
        "print(\"Series= \\n\",res)"
      ],
      "metadata": {
        "colab": {
          "base_uri": "https://localhost:8080/"
        },
        "id": "0FONCQbgeKfJ",
        "outputId": "eb0c10a3-d5a0-4bc6-9aac-56308fac4df1"
      },
      "execution_count": null,
      "outputs": [
        {
          "output_type": "stream",
          "name": "stdout",
          "text": [
            "Series= \n",
            " 0    100\n",
            "1    200\n",
            "2    300\n",
            "3     65\n",
            "4     78\n",
            "5     99\n",
            "dtype: int64\n"
          ]
        }
      ]
    },
    {
      "cell_type": "code",
      "source": [
        "import numpy as np\n",
        "\n",
        "arr= np.array((1,2,3))\n",
        "print(\"Array= \",arr)\n",
        "print(type(arr))"
      ],
      "metadata": {
        "colab": {
          "base_uri": "https://localhost:8080/"
        },
        "id": "F3C_xrW_2PxL",
        "outputId": "92ac27ea-94cb-493d-ee06-bce9fb701700"
      },
      "execution_count": null,
      "outputs": [
        {
          "output_type": "stream",
          "name": "stdout",
          "text": [
            "Array=  [1 2 3]\n",
            "<class 'numpy.ndarray'>\n"
          ]
        }
      ]
    },
    {
      "cell_type": "code",
      "source": [
        "import matplotlib.pyplot as plt\n",
        "\n",
        "import numpy as np\n",
        "\n",
        "xpts= np.array([0,5])\n",
        "ypts= np.array([0,92])\n",
        "\n",
        "plt.plot(xpts,ypts)\n",
        "plt.show()\n"
      ],
      "metadata": {
        "colab": {
          "base_uri": "https://localhost:8080/",
          "height": 430
        },
        "id": "CHrVJTRa3cUd",
        "outputId": "e1f7889c-ae33-4078-a5a5-8f18b6d007ce"
      },
      "execution_count": null,
      "outputs": [
        {
          "output_type": "display_data",
          "data": {
            "text/plain": [
              "<Figure size 640x480 with 1 Axes>"
            ],
            "image/png": "[encoded data removed]"
          },
          "metadata": {}
        }
      ]
    }
  ]
}